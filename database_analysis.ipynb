{
 "cells": [
  {
   "cell_type": "code",
   "execution_count": 1,
   "metadata": {
    "id": "OP8IvQvZnnVw"
   },
   "outputs": [],
   "source": [
    "import pandas as pd\n",
    "import numpy as np\n",
    "import matplotlib.pyplot as plt\n",
    "import ast"
   ]
  },
  {
   "cell_type": "markdown",
   "metadata": {
    "id": "d7sDNsp5nrz3"
   },
   "source": [
    "# Statistical analysis"
   ]
  },
  {
   "cell_type": "code",
   "execution_count": 5,
   "metadata": {
    "id": "W3xtfRWR8SLc"
   },
   "outputs": [],
   "source": [
    "data_in_house = pd.read_csv('datasets/electrochromics_in_house_experiments_with_abs.csv')\n",
    "data_literature = pd.read_csv(\n",
    "    'datasets/literature_only_dataset_with_abs.csv', encoding='latin1'\n",
    ")\n",
    "# data_sdl = pd.read_csv('/datasets/closeloop_all_past_experiments_rgb.csv')\n",
    "\n",
    "# dot_colors_in_house = [eval(t) for t in data_in_house['rgb_color'].values]\n",
    "# dot_colors_literature = [eval(t) for t in data_literature['rgb_color'].values]\n",
    "# dot_colors_sdl = [eval(t) for t in data_sdl['rgb_color'].values]"
   ]
  },
  {
   "cell_type": "code",
   "execution_count": null,
   "metadata": {},
   "outputs": [],
   "source": [
    "# Pie chart with literature data\n"
   ]
  },
  {
   "cell_type": "code",
   "execution_count": null,
   "metadata": {},
   "outputs": [],
   "source": [
    "# Pie chart with the in-house experiments\n"
   ]
  }
 ],
 "metadata": {
  "colab": {
   "provenance": []
  },
  "kernelspec": {
   "display_name": "poly_agent",
   "language": "python",
   "name": "python3"
  },
  "language_info": {
   "codemirror_mode": {
    "name": "ipython",
    "version": 3
   },
   "file_extension": ".py",
   "mimetype": "text/x-python",
   "name": "python",
   "nbconvert_exporter": "python",
   "pygments_lexer": "ipython3",
   "version": "3.9.18"
  }
 },
 "nbformat": 4,
 "nbformat_minor": 0
}
